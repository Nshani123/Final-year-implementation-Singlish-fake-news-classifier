{
  "cells": [
    {
      "cell_type": "markdown",
      "metadata": {
        "colab_type": "text",
        "id": "view-in-github"
      },
      "source": [
        "<a href=\"https://colab.research.google.com/github/Rahulraj31/Fake-News-LSTM/blob/main/Fake_News_Classifier_Using_LSTM.ipynb\" target=\"_parent\"><img src=\"https://colab.research.google.com/assets/colab-badge.svg\" alt=\"Open In Colab\"/></a>"
      ]
    },
    {
      "cell_type": "markdown",
      "metadata": {
        "id": "oKntj4xnwmvS"
      },
      "source": [
        "\n",
        "# Fake News Classifier Using LSTM\n",
        "\n",
        "\n",
        "Dataset: https://www.kaggle.com/c/fake-news/data#"
      ]
    },
    {
      "cell_type": "code",
      "execution_count": 1,
      "metadata": {
        "id": "MQD54apFw-ZL"
      },
      "outputs": [],
      "source": [
        "import zipfile\n",
        "\n",
        "local_zip = '/content/drive/MyDrive/Colab Notebooks/fake-news.zip'\n",
        "zip_ref = zipfile.ZipFile(local_zip, 'r')\n",
        "zip_ref.extractall('/content')\n",
        "zip_ref.close()"
      ]
    },
    {
      "cell_type": "code",
      "execution_count": 1,
      "metadata": {
        "id": "LReMxHIcxRle"
      },
      "outputs": [
        {
          "ename": "SyntaxError",
          "evalue": "(unicode error) 'unicodeescape' codec can't decode bytes in position 2-3: truncated \\UXXXXXXXX escape (2445895739.py, line 2)",
          "output_type": "error",
          "traceback": [
            "\u001b[1;36m  Cell \u001b[1;32mIn [1], line 2\u001b[1;36m\u001b[0m\n\u001b[1;33m    df= pd.read_csv(\"C:\\Users\\weoni\\Desktop\\Uni docs\\shanika\\Fake-News-LSTM\\train.csv\")\u001b[0m\n\u001b[1;37m                                                                                      ^\u001b[0m\n\u001b[1;31mSyntaxError\u001b[0m\u001b[1;31m:\u001b[0m (unicode error) 'unicodeescape' codec can't decode bytes in position 2-3: truncated \\UXXXXXXXX escape\n"
          ]
        }
      ],
      "source": [
        "import pandas as pd\n",
        "df= pd.read_csv(\"C:\\Users\\weoni\\Desktop\\Uni docs\\shanika\\Fake-News-LSTM\\train.csv\")"
      ]
    },
    {
      "cell_type": "code",
      "execution_count": 3,
      "metadata": {
        "colab": {
          "base_uri": "https://localhost:8080/",
          "height": 203
        },
        "id": "psia8bH9xegb",
        "outputId": "8e412c60-eb63-4cc3-a9c4-8e42cf9609b8"
      },
      "outputs": [
        {
          "data": {
            "text/html": [
              "<div>\n",
              "<style scoped>\n",
              "    .dataframe tbody tr th:only-of-type {\n",
              "        vertical-align: middle;\n",
              "    }\n",
              "\n",
              "    .dataframe tbody tr th {\n",
              "        vertical-align: top;\n",
              "    }\n",
              "\n",
              "    .dataframe thead th {\n",
              "        text-align: right;\n",
              "    }\n",
              "</style>\n",
              "<table border=\"1\" class=\"dataframe\">\n",
              "  <thead>\n",
              "    <tr style=\"text-align: right;\">\n",
              "      <th></th>\n",
              "      <th>id</th>\n",
              "      <th>title</th>\n",
              "      <th>author</th>\n",
              "      <th>text</th>\n",
              "      <th>label</th>\n",
              "    </tr>\n",
              "  </thead>\n",
              "  <tbody>\n",
              "    <tr>\n",
              "      <th>0</th>\n",
              "      <td>0</td>\n",
              "      <td>House Dem Aide: We Didn’t Even See Comey’s Let...</td>\n",
              "      <td>Darrell Lucus</td>\n",
              "      <td>House Dem Aide: We Didn’t Even See Comey’s Let...</td>\n",
              "      <td>1</td>\n",
              "    </tr>\n",
              "    <tr>\n",
              "      <th>1</th>\n",
              "      <td>1</td>\n",
              "      <td>FLYNN: Hillary Clinton, Big Woman on Campus - ...</td>\n",
              "      <td>Daniel J. Flynn</td>\n",
              "      <td>Ever get the feeling your life circles the rou...</td>\n",
              "      <td>0</td>\n",
              "    </tr>\n",
              "    <tr>\n",
              "      <th>2</th>\n",
              "      <td>2</td>\n",
              "      <td>Why the Truth Might Get You Fired</td>\n",
              "      <td>Consortiumnews.com</td>\n",
              "      <td>Why the Truth Might Get You Fired October 29, ...</td>\n",
              "      <td>1</td>\n",
              "    </tr>\n",
              "    <tr>\n",
              "      <th>3</th>\n",
              "      <td>3</td>\n",
              "      <td>15 Civilians Killed In Single US Airstrike Hav...</td>\n",
              "      <td>Jessica Purkiss</td>\n",
              "      <td>Videos 15 Civilians Killed In Single US Airstr...</td>\n",
              "      <td>1</td>\n",
              "    </tr>\n",
              "    <tr>\n",
              "      <th>4</th>\n",
              "      <td>4</td>\n",
              "      <td>Iranian woman jailed for fictional unpublished...</td>\n",
              "      <td>Howard Portnoy</td>\n",
              "      <td>Print \\nAn Iranian woman has been sentenced to...</td>\n",
              "      <td>1</td>\n",
              "    </tr>\n",
              "  </tbody>\n",
              "</table>\n",
              "</div>"
            ],
            "text/plain": [
              "   id  ... label\n",
              "0   0  ...     1\n",
              "1   1  ...     0\n",
              "2   2  ...     1\n",
              "3   3  ...     1\n",
              "4   4  ...     1\n",
              "\n",
              "[5 rows x 5 columns]"
            ]
          },
          "execution_count": 3,
          "metadata": {
            "tags": []
          },
          "output_type": "execute_result"
        }
      ],
      "source": [
        "df.head()"
      ]
    },
    {
      "cell_type": "markdown",
      "metadata": {
        "id": "4QYbakjxxoYE"
      },
      "source": [
        "**1: unreliable**<br>\n",
        "\n",
        "**0: reliable**"
      ]
    },
    {
      "cell_type": "code",
      "execution_count": 4,
      "metadata": {
        "colab": {
          "base_uri": "https://localhost:8080/"
        },
        "id": "ATK9rPDKy6hk",
        "outputId": "2ae6a0e1-3b5a-4f17-9c22-bb41a3650f59"
      },
      "outputs": [
        {
          "data": {
            "text/plain": [
              "(20800, 5)"
            ]
          },
          "execution_count": 4,
          "metadata": {
            "tags": []
          },
          "output_type": "execute_result"
        }
      ],
      "source": [
        "df.shape"
      ]
    },
    {
      "cell_type": "code",
      "execution_count": 5,
      "metadata": {
        "colab": {
          "base_uri": "https://localhost:8080/"
        },
        "id": "04z6gspwxf6j",
        "outputId": "5d903108-07d8-4f06-f77f-b388a7915ecd"
      },
      "outputs": [
        {
          "data": {
            "text/plain": [
              "id           0\n",
              "title      558\n",
              "author    1957\n",
              "text        39\n",
              "label        0\n",
              "dtype: int64"
            ]
          },
          "execution_count": 5,
          "metadata": {
            "tags": []
          },
          "output_type": "execute_result"
        }
      ],
      "source": [
        "df.isnull().sum()"
      ]
    },
    {
      "cell_type": "code",
      "execution_count": 6,
      "metadata": {
        "id": "B2bWUS4Lx_WU"
      },
      "outputs": [],
      "source": [
        "df=df.dropna()"
      ]
    },
    {
      "cell_type": "code",
      "execution_count": 7,
      "metadata": {
        "id": "uer89f1cyeKs"
      },
      "outputs": [],
      "source": [
        "# Get the Independent and Dependent Features\n",
        "X=df.drop('label',axis=1)\n",
        "Y=df['label']"
      ]
    },
    {
      "cell_type": "code",
      "execution_count": 8,
      "metadata": {
        "colab": {
          "base_uri": "https://localhost:8080/"
        },
        "id": "DwGHqqInyqcT",
        "outputId": "0a1423f0-9bac-47d4-81f3-65e165a30d21"
      },
      "outputs": [
        {
          "data": {
            "text/plain": [
              "((18285, 4), (18285,))"
            ]
          },
          "execution_count": 8,
          "metadata": {
            "tags": []
          },
          "output_type": "execute_result"
        }
      ],
      "source": [
        "X.shape,Y.shape"
      ]
    },
    {
      "cell_type": "code",
      "execution_count": 9,
      "metadata": {
        "id": "rY7CdIzqy23a"
      },
      "outputs": [],
      "source": [
        "from tensorflow.keras.layers import Embedding\n",
        "from tensorflow.keras.preprocessing.sequence import pad_sequences  #for proper same size input to embedding layer, same as widow in genshim\n",
        "from tensorflow.keras.models import Sequential\n",
        "from tensorflow.keras.preprocessing.text import one_hot\n",
        "from tensorflow.keras.layers import LSTM\n",
        "from tensorflow.keras.layers import Dense,Dropout"
      ]
    },
    {
      "cell_type": "code",
      "execution_count": 10,
      "metadata": {
        "id": "FzF_meKPzIBD"
      },
      "outputs": [],
      "source": [
        "# vocabulary size\n",
        "voc_size =5000"
      ]
    },
    {
      "cell_type": "markdown",
      "metadata": {
        "id": "XGdlEkjbzi7y"
      },
      "source": [
        "## One hot Representation\n"
      ]
    },
    {
      "cell_type": "code",
      "execution_count": 11,
      "metadata": {
        "id": "hE2ffNWdzhAd"
      },
      "outputs": [],
      "source": [
        "messages=X.copy()"
      ]
    },
    {
      "cell_type": "code",
      "execution_count": 12,
      "metadata": {
        "id": "DtTzowQUzvgL"
      },
      "outputs": [],
      "source": [
        "messages.reset_index(inplace=True)"
      ]
    },
    {
      "cell_type": "code",
      "execution_count": 13,
      "metadata": {
        "id": "-X4RP8GOzw7S"
      },
      "outputs": [],
      "source": [
        "import nltk\n",
        "import re\n",
        "from nltk.corpus import stopwords"
      ]
    },
    {
      "cell_type": "code",
      "execution_count": 14,
      "metadata": {
        "colab": {
          "base_uri": "https://localhost:8080/"
        },
        "id": "VOayfrir0OEC",
        "outputId": "9ba4155f-8156-41a2-cb64-dcddba4c1d71"
      },
      "outputs": [
        {
          "name": "stdout",
          "output_type": "stream",
          "text": [
            "[nltk_data] Downloading package stopwords to /root/nltk_data...\n",
            "[nltk_data]   Package stopwords is already up-to-date!\n"
          ]
        },
        {
          "data": {
            "text/plain": [
              "True"
            ]
          },
          "execution_count": 14,
          "metadata": {
            "tags": []
          },
          "output_type": "execute_result"
        }
      ],
      "source": [
        "nltk.download('stopwords')"
      ]
    },
    {
      "cell_type": "code",
      "execution_count": 15,
      "metadata": {
        "id": "xGuJKBav0XX6"
      },
      "outputs": [],
      "source": [
        "# Dataset preprocessing\n",
        "from nltk.stem.porter import PorterStemmer\n",
        "ps= PorterStemmer()\n",
        "corpus = []\n",
        "for i in range(0,len(messages)):\n",
        "  review=re.sub('[^a-zA-Z]',' ',messages[\"title\"][i]) #substitute everthing with blank apart from letters a-z and A-Z in title\n",
        "  \n",
        "  review =review.lower() #convert to lower case\n",
        "  \n",
        "  review=review.split() \n",
        "\n",
        "  review = [ps.stem(word) for word in review if not word in stopwords.words('english')] #stems words no present in stopword\n",
        "  review = ' '.join(review) #combining list of words to a list of sentences\n",
        "  corpus.append(review)\n",
        "  "
      ]
    },
    {
      "cell_type": "code",
      "execution_count": 16,
      "metadata": {
        "id": "hzXzgDTT3ehx"
      },
      "outputs": [],
      "source": [
        "onehot_rep= [one_hot(words,voc_size) for words in corpus]"
      ]
    },
    {
      "cell_type": "code",
      "execution_count": 17,
      "metadata": {
        "colab": {
          "base_uri": "https://localhost:8080/"
        },
        "id": "ONy0scx831_B",
        "outputId": "6229549e-e21d-4dea-ffe1-36eb6a8b657b"
      },
      "outputs": [
        {
          "data": {
            "text/plain": [
              "[[4253, 2140, 2357, 4180, 1491, 1031, 1996, 704, 1182, 1795],\n",
              " [3138, 4162, 751, 1246, 786, 325, 2901],\n",
              " [276, 4144, 1042, 565],\n",
              " [4315, 319, 4977, 976, 1679, 1054],\n",
              " [3241, 786, 3480, 3118, 2022, 356, 786, 3111, 1051, 3416]]"
            ]
          },
          "execution_count": 17,
          "metadata": {
            "tags": []
          },
          "output_type": "execute_result"
        }
      ],
      "source": [
        "# one hot for first 5 sentences\n",
        "onehot_rep[0:5]"
      ]
    },
    {
      "cell_type": "markdown",
      "metadata": {
        "id": "17lsCiD54Vqy"
      },
      "source": [
        "## Embedding Representation"
      ]
    },
    {
      "cell_type": "code",
      "execution_count": 18,
      "metadata": {
        "colab": {
          "base_uri": "https://localhost:8080/"
        },
        "id": "EVJw28x84B4h",
        "outputId": "6de366b8-6e47-4d71-a277-3dc7d63a7cba"
      },
      "outputs": [
        {
          "name": "stdout",
          "output_type": "stream",
          "text": [
            "[[   0    0    0 ...  704 1182 1795]\n",
            " [   0    0    0 ...  786  325 2901]\n",
            " [   0    0    0 ... 4144 1042  565]\n",
            " ...\n",
            " [   0    0    0 ... 3616 3963 3582]\n",
            " [   0    0    0 ... 3502 1723 1274]\n",
            " [   0    0    0 ... 4107 2741 3738]]\n"
          ]
        }
      ],
      "source": [
        "sent_length =20\n",
        "embedded_docs=pad_sequences(onehot_rep,padding='pre',maxlen=sent_length)\n",
        "print(embedded_docs)"
      ]
    },
    {
      "cell_type": "code",
      "execution_count": 19,
      "metadata": {
        "colab": {
          "base_uri": "https://localhost:8080/"
        },
        "id": "aYPJpI6i41o0",
        "outputId": "404a614a-9a5e-4efc-e42f-0f50a15843bd"
      },
      "outputs": [
        {
          "data": {
            "text/plain": [
              "array([   0,    0,    0,    0,    0,    0,    0,    0,    0,    0,    0,\n",
              "          0,    0, 3138, 4162,  751, 1246,  786,  325, 2901], dtype=int32)"
            ]
          },
          "execution_count": 19,
          "metadata": {
            "tags": []
          },
          "output_type": "execute_result"
        }
      ],
      "source": [
        "embedded_docs[1]"
      ]
    },
    {
      "cell_type": "code",
      "execution_count": 20,
      "metadata": {
        "id": "Uzju9jeB5A7p"
      },
      "outputs": [],
      "source": [
        "# creating model\n",
        "embedding_vector_features =40   #dimwnsion of feature vector of embedding \n",
        "model=Sequential()\n",
        "\n",
        "model.add(Embedding(voc_size,embedding_vector_features,input_length=sent_length))\n",
        "model.add(Dropout(0.5))\n",
        "model.add(LSTM(100))  # 1 layer 100 neuron\n",
        "model.add(Dropout(0.3))\n",
        "model.add(Dense(1,activation='sigmoid'))\n"
      ]
    },
    {
      "cell_type": "code",
      "execution_count": 21,
      "metadata": {
        "id": "x95pNzuk5bEd"
      },
      "outputs": [],
      "source": [
        "model.compile(loss='binary_crossentropy',optimizer='adam',metrics=['accuracy'])"
      ]
    },
    {
      "cell_type": "code",
      "execution_count": 22,
      "metadata": {
        "colab": {
          "base_uri": "https://localhost:8080/"
        },
        "id": "Ourv7xqB59Ac",
        "outputId": "b9e0e565-d2d2-4886-da26-47023dda6fa1"
      },
      "outputs": [
        {
          "name": "stdout",
          "output_type": "stream",
          "text": [
            "Model: \"sequential\"\n",
            "_________________________________________________________________\n",
            "Layer (type)                 Output Shape              Param #   \n",
            "=================================================================\n",
            "embedding (Embedding)        (None, 20, 40)            200000    \n",
            "_________________________________________________________________\n",
            "dropout (Dropout)            (None, 20, 40)            0         \n",
            "_________________________________________________________________\n",
            "lstm (LSTM)                  (None, 100)               56400     \n",
            "_________________________________________________________________\n",
            "dropout_1 (Dropout)          (None, 100)               0         \n",
            "_________________________________________________________________\n",
            "dense (Dense)                (None, 1)                 101       \n",
            "=================================================================\n",
            "Total params: 256,501\n",
            "Trainable params: 256,501\n",
            "Non-trainable params: 0\n",
            "_________________________________________________________________\n"
          ]
        }
      ],
      "source": [
        "model.summary()"
      ]
    },
    {
      "cell_type": "code",
      "execution_count": 23,
      "metadata": {
        "id": "My7-Kaz66AqA"
      },
      "outputs": [],
      "source": [
        "import numpy as np\n",
        "X_final=np.array(embedded_docs)\n",
        "y_final=np.array(Y)"
      ]
    },
    {
      "cell_type": "code",
      "execution_count": 24,
      "metadata": {
        "id": "pJ3UGe9Z6039"
      },
      "outputs": [],
      "source": [
        "from sklearn.model_selection import train_test_split\n",
        "X_train, X_val, y_train, y_val = train_test_split(X_final, y_final, test_size=0.33, random_state=42)\n"
      ]
    },
    {
      "cell_type": "code",
      "execution_count": 25,
      "metadata": {
        "colab": {
          "base_uri": "https://localhost:8080/"
        },
        "id": "qvZGIUSW7fq5",
        "outputId": "d0ae806a-e34e-4b68-accd-c189b9cd10b7"
      },
      "outputs": [
        {
          "name": "stdout",
          "output_type": "stream",
          "text": [
            "Epoch 1/10\n",
            "383/383 [==============================] - 6s 9ms/step - loss: 0.2895 - accuracy: 0.8669 - val_loss: 0.1947 - val_accuracy: 0.9162\n",
            "Epoch 2/10\n",
            "383/383 [==============================] - 3s 8ms/step - loss: 0.1528 - accuracy: 0.9387 - val_loss: 0.1927 - val_accuracy: 0.9183\n",
            "Epoch 3/10\n",
            "383/383 [==============================] - 3s 8ms/step - loss: 0.1168 - accuracy: 0.9571 - val_loss: 0.2068 - val_accuracy: 0.9171\n",
            "Epoch 4/10\n",
            "383/383 [==============================] - 3s 8ms/step - loss: 0.0940 - accuracy: 0.9652 - val_loss: 0.2389 - val_accuracy: 0.9200\n",
            "Epoch 5/10\n",
            "383/383 [==============================] - 3s 8ms/step - loss: 0.0728 - accuracy: 0.9735 - val_loss: 0.2535 - val_accuracy: 0.9170\n",
            "Epoch 6/10\n",
            "383/383 [==============================] - 3s 8ms/step - loss: 0.0613 - accuracy: 0.9782 - val_loss: 0.2689 - val_accuracy: 0.9162\n",
            "Epoch 7/10\n",
            "383/383 [==============================] - 3s 8ms/step - loss: 0.0525 - accuracy: 0.9825 - val_loss: 0.2926 - val_accuracy: 0.9171\n",
            "Epoch 8/10\n",
            "383/383 [==============================] - 3s 8ms/step - loss: 0.0432 - accuracy: 0.9851 - val_loss: 0.3283 - val_accuracy: 0.9090\n",
            "Epoch 9/10\n",
            "383/383 [==============================] - 3s 8ms/step - loss: 0.0370 - accuracy: 0.9873 - val_loss: 0.3233 - val_accuracy: 0.9110\n",
            "Epoch 10/10\n",
            "383/383 [==============================] - 3s 8ms/step - loss: 0.0338 - accuracy: 0.9890 - val_loss: 0.3450 - val_accuracy: 0.9115\n"
          ]
        },
        {
          "data": {
            "text/plain": [
              "<tensorflow.python.keras.callbacks.History at 0x7f1fa012da50>"
            ]
          },
          "execution_count": 25,
          "metadata": {
            "tags": []
          },
          "output_type": "execute_result"
        }
      ],
      "source": [
        "model.fit(X_train,y_train,validation_data=(X_val,y_val),epochs=10,batch_size=32)\n"
      ]
    },
    {
      "cell_type": "markdown",
      "metadata": {
        "id": "gnP5YH6N78JD"
      },
      "source": [
        "\n",
        "## Performance Metrics And Accuracy"
      ]
    },
    {
      "cell_type": "code",
      "execution_count": 26,
      "metadata": {
        "colab": {
          "base_uri": "https://localhost:8080/"
        },
        "id": "yRHLWE1N7kc5",
        "outputId": "62e6cfa5-f2de-47ec-dc17-24707dad15b5"
      },
      "outputs": [
        {
          "name": "stderr",
          "output_type": "stream",
          "text": [
            "/usr/local/lib/python3.7/dist-packages/tensorflow/python/keras/engine/sequential.py:455: UserWarning: `model.predict_classes()` is deprecated and will be removed after 2021-01-01. Please use instead:* `np.argmax(model.predict(x), axis=-1)`,   if your model does multi-class classification   (e.g. if it uses a `softmax` last-layer activation).* `(model.predict(x) > 0.5).astype(\"int32\")`,   if your model does binary classification   (e.g. if it uses a `sigmoid` last-layer activation).\n",
            "  warnings.warn('`model.predict_classes()` is deprecated and '\n"
          ]
        }
      ],
      "source": [
        "y_pred=model.predict_classes(X_val)"
      ]
    },
    {
      "cell_type": "code",
      "execution_count": 27,
      "metadata": {
        "colab": {
          "base_uri": "https://localhost:8080/"
        },
        "id": "osdd1hOX8C3h",
        "outputId": "a43d8312-a369-4844-b756-658df2d2a39c"
      },
      "outputs": [
        {
          "data": {
            "text/plain": [
              "array([[3095,  324],\n",
              "       [ 210, 2406]])"
            ]
          },
          "execution_count": 27,
          "metadata": {
            "tags": []
          },
          "output_type": "execute_result"
        }
      ],
      "source": [
        "from sklearn.metrics import confusion_matrix\n",
        "from sklearn.metrics import accuracy_score\n",
        "confusion_matrix(y_val,y_pred)"
      ]
    },
    {
      "cell_type": "code",
      "execution_count": 28,
      "metadata": {
        "colab": {
          "base_uri": "https://localhost:8080/"
        },
        "id": "fmWXno2k8LiY",
        "outputId": "b6e605d6-b01f-4831-e429-2f3d7eadcfb1"
      },
      "outputs": [
        {
          "data": {
            "text/plain": [
              "0.9115161557580779"
            ]
          },
          "execution_count": 28,
          "metadata": {
            "tags": []
          },
          "output_type": "execute_result"
        }
      ],
      "source": [
        "accuracy_score(y_val,y_pred)"
      ]
    },
    {
      "cell_type": "code",
      "execution_count": 29,
      "metadata": {
        "colab": {
          "base_uri": "https://localhost:8080/"
        },
        "id": "_JjYbNW6nsnK",
        "outputId": "197d615d-b465-409a-a8a7-11ea0449ede2"
      },
      "outputs": [
        {
          "name": "stdout",
          "output_type": "stream",
          "text": [
            "              precision    recall  f1-score   support\n",
            "\n",
            "           0       0.94      0.91      0.92      3419\n",
            "           1       0.88      0.92      0.90      2616\n",
            "\n",
            "    accuracy                           0.91      6035\n",
            "   macro avg       0.91      0.91      0.91      6035\n",
            "weighted avg       0.91      0.91      0.91      6035\n",
            "\n"
          ]
        }
      ],
      "source": [
        "from sklearn.metrics import classification_report\n",
        "print(classification_report(y_val,y_pred))"
      ]
    }
  ],
  "metadata": {
    "accelerator": "GPU",
    "colab": {
      "authorship_tag": "ABX9TyMxoCHs9mOoE46YeDa540pq",
      "include_colab_link": true,
      "mount_file_id": "1rpTxlB1OCzy0B_ivaAqzZy4swkoPDuxf",
      "name": "Fake_News_Classifier_Using_LSTM.ipynb",
      "provenance": []
    },
    "kernelspec": {
      "display_name": "Python 3",
      "language": "python",
      "name": "python3"
    },
    "language_info": {
      "codemirror_mode": {
        "name": "ipython",
        "version": 3
      },
      "file_extension": ".py",
      "mimetype": "text/x-python",
      "name": "python",
      "nbconvert_exporter": "python",
      "pygments_lexer": "ipython3",
      "version": "3.9.7"
    },
    "vscode": {
      "interpreter": {
        "hash": "e68b6abe9ec7e41afeb2a5e665344c21c67f93d46a199337e7b458e6e23cfede"
      }
    }
  },
  "nbformat": 4,
  "nbformat_minor": 0
}
